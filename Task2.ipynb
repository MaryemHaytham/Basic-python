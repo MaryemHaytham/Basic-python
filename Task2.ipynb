{
 "cells": [
  {
   "cell_type": "markdown",
   "id": "e4abc227",
   "metadata": {},
   "source": [
    "## create comperehinsive list that sum even numbers only from input number to another number and this numbers users will enter it\n"
   ]
  },
  {
   "cell_type": "code",
   "execution_count": 5,
   "id": "2c377a21",
   "metadata": {},
   "outputs": [
    {
     "name": "stdout",
     "output_type": "stream",
     "text": [
      "Enter the starting number: 1\n",
      "Enter the ending number: 10\n",
      "The sum of even numbers from 1 to 10 is 30\n"
     ]
    }
   ],
   "source": [
    "start = int(input(\"Enter the starting number: \"))\n",
    "end = int(input(\"Enter the ending number: \"))\n",
    "\n",
    "sum_of_evens = 0\n",
    "\n",
    "for num in range(start, end + 1):\n",
    "    if num % 2 == 0:\n",
    "        sum_of_evens += num\n",
    "\n",
    "print(\"The sum of even numbers from\", start, \"to\", end, \"is\", sum_of_evens)"
   ]
  },
  {
   "cell_type": "markdown",
   "id": "8fabec4f",
   "metadata": {},
   "source": [
    "### Find Largest and Smallest Numbers in a List"
   ]
  },
  {
   "cell_type": "code",
   "execution_count": 6,
   "id": "5d219138",
   "metadata": {},
   "outputs": [
    {
     "name": "stdout",
     "output_type": "stream",
     "text": [
      "The largest number is: 9\n",
      "The smallest number is: 1\n"
     ]
    }
   ],
   "source": [
    "numbers = [5, 2, 9, 1, 7, 3]\n",
    "\n",
    "largest = max(numbers)\n",
    "smallest = min(numbers)\n",
    "\n",
    "print(\"The largest number is:\", largest)\n",
    "print(\"The smallest number is:\", smallest)"
   ]
  },
  {
   "cell_type": "markdown",
   "id": "625f4e09",
   "metadata": {},
   "source": [
    "### Count Occurrences of a Character in a String"
   ]
  },
  {
   "cell_type": "code",
   "execution_count": 7,
   "id": "41d409b4",
   "metadata": {},
   "outputs": [
    {
     "name": "stdout",
     "output_type": "stream",
     "text": [
      "The character l occurs 3 times in the string.\n"
     ]
    }
   ],
   "source": [
    "string = \"Hello, World!\"\n",
    "character = 'l'\n",
    "\n",
    "count = string.count(character)\n",
    "\n",
    "print(\"The character\", character, \"occurs\", count, \"times in the string.\")"
   ]
  },
  {
   "cell_type": "markdown",
   "id": "2487b6c6",
   "metadata": {},
   "source": [
    "### Find Length of Longest Word in a Sentence"
   ]
  },
  {
   "cell_type": "code",
   "execution_count": 9,
   "id": "832f31ae",
   "metadata": {},
   "outputs": [
    {
     "name": "stdout",
     "output_type": "stream",
     "text": [
      "Enter a sentence: mar haytham saad\n",
      "The length of the longest word in the sentence is: 7\n"
     ]
    }
   ],
   "source": [
    "sentence = input(\"Enter a sentence: \")\n",
    "\n",
    "# Split the sentence into individual words\n",
    "words = sentence.split()\n",
    "\n",
    "# Initialize a variable to store the length of the longest word\n",
    "longest_length = 0\n",
    "\n",
    "# Iterate over each word in the list and update longest_length if needed\n",
    "for word in words:\n",
    "    if len(word) > longest_length:\n",
    "        longest_length = len(word)\n",
    "\n",
    "print(\"The length of the longest word in the sentence is:\", longest_length)"
   ]
  },
  {
   "cell_type": "markdown",
   "id": "98af7304",
   "metadata": {},
   "source": [
    "### Sort a List of Numbers in Ascending and Descending Order\n"
   ]
  },
  {
   "cell_type": "code",
   "execution_count": 10,
   "id": "7f68bac0",
   "metadata": {},
   "outputs": [
    {
     "name": "stdout",
     "output_type": "stream",
     "text": [
      "Ascending order: [1, 2, 3, 5, 7, 9]\n",
      "Descending order: [9, 7, 5, 3, 2, 1]\n"
     ]
    }
   ],
   "source": [
    "numbers = [5, 2, 9, 1, 7, 3]\n",
    "\n",
    "# Sort in ascending order\n",
    "numbers.sort()\n",
    "print(\"Ascending order:\", numbers)\n",
    "\n",
    "# Sort in descending order\n",
    "numbers.sort(reverse=True)\n",
    "print(\"Descending order:\", numbers)"
   ]
  },
  {
   "cell_type": "markdown",
   "id": "643def0d",
   "metadata": {},
   "source": [
    "### Program to remove all duplicates from a list"
   ]
  },
  {
   "cell_type": "code",
   "execution_count": 11,
   "id": "0d7b070b",
   "metadata": {},
   "outputs": [
    {
     "name": "stdout",
     "output_type": "stream",
     "text": [
      "Original list: [2, 4, 6, 2, 8, 4, 10, 6]\n",
      "List with duplicates removed: [2, 4, 6, 8, 10]\n"
     ]
    }
   ],
   "source": [
    "numbers = [2, 4, 6, 2, 8, 4, 10, 6]\n",
    "\n",
    "# Convert the list to a set to remove duplicates\n",
    "unique_numbers = list(set(numbers))\n",
    "\n",
    "print(\"Original list:\", numbers)\n",
    "print(\"List with duplicates removed:\", unique_numbers)"
   ]
  },
  {
   "cell_type": "markdown",
   "id": "e59b347c",
   "metadata": {},
   "source": [
    "### create calculator the add - subtract - divide - multiply two numbers and can check if number is odd or even"
   ]
  },
  {
   "cell_type": "code",
   "execution_count": 12,
   "id": "fcf65b90",
   "metadata": {},
   "outputs": [
    {
     "name": "stdout",
     "output_type": "stream",
     "text": [
      "Calculator\n",
      "Enter the first number: 3\n",
      "Enter the second number: 3\n",
      "Addition: 6.0\n",
      "Subtraction: 0.0\n",
      "Division: 1.0\n",
      "Multiplication: 9.0\n",
      "Enter a number to check if it's odd or even: 5\n",
      "5 is odd.\n"
     ]
    }
   ],
   "source": [
    "print(\"Calculator\")\n",
    "\n",
    "num1 = float(input(\"Enter the first number: \"))\n",
    "num2 = float(input(\"Enter the second number: \"))\n",
    "\n",
    "# Addition\n",
    "result = num1 + num2\n",
    "print(\"Addition:\", result)\n",
    "\n",
    "# Subtraction\n",
    "result = num1 - num2\n",
    "print(\"Subtraction:\", result)\n",
    "\n",
    "# Division\n",
    "if num2 != 0:\n",
    "    result = num1 / num2\n",
    "    print(\"Division:\", result)\n",
    "else:\n",
    "    print(\"Error: Cannot divide by zero!\")\n",
    "\n",
    "# Multiplication\n",
    "result = num1 * num2\n",
    "print(\"Multiplication:\", result)\n",
    "\n",
    "# Check if a number is odd or even\n",
    "check_num = int(input(\"Enter a number to check if it's odd or even: \"))\n",
    "\n",
    "if check_num % 2 == 0:\n",
    "    print(check_num, \"is even.\")\n",
    "else:\n",
    "    print(check_num, \"is odd.\")"
   ]
  },
  {
   "cell_type": "code",
   "execution_count": null,
   "id": "e8e2ffcc",
   "metadata": {},
   "outputs": [],
   "source": []
  }
 ],
 "metadata": {
  "kernelspec": {
   "display_name": "Python 3 (ipykernel)",
   "language": "python",
   "name": "python3"
  },
  "language_info": {
   "codemirror_mode": {
    "name": "ipython",
    "version": 3
   },
   "file_extension": ".py",
   "mimetype": "text/x-python",
   "name": "python",
   "nbconvert_exporter": "python",
   "pygments_lexer": "ipython3",
   "version": "3.10.9"
  }
 },
 "nbformat": 4,
 "nbformat_minor": 5
}
